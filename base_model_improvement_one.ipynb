{
  "nbformat": 4,
  "nbformat_minor": 0,
  "metadata": {
    "colab": {
      "name": "base model_improvement_one",
      "provenance": [],
      "include_colab_link": true
    },
    "kernelspec": {
      "name": "python3",
      "display_name": "Python 3"
    },
    "accelerator": "GPU"
  },
  "cells": [
    {
      "cell_type": "markdown",
      "metadata": {
        "id": "view-in-github",
        "colab_type": "text"
      },
      "source": [
        "<a href=\"https://colab.research.google.com/github/mingrui-liu/Hyperpigmentation-autograde/blob/main/base_model_improvement_one.ipynb\" target=\"_parent\"><img src=\"https://colab.research.google.com/assets/colab-badge.svg\" alt=\"Open In Colab\"/></a>"
      ]
    },
    {
      "cell_type": "code",
      "metadata": {
        "id": "FXXKBhRLM9Ss"
      },
      "source": [
        "import cv2\n",
        "import math\n",
        "import matplotlib.pyplot as plt\n",
        "%matplotlib inline\n",
        "import glob\n",
        "import os\n",
        "import shutil\n",
        "import random\n",
        "import pandas as pd\n",
        "import tensorflow as tf\n",
        "from tensorflow.keras import datasets, layers, models\n",
        "import numpy as np\n",
        "import tensorflow_addons as tfa\n",
        "from tensorflow.keras.optimizers import SGD,Adam,RMSprop,Nadam"
      ],
      "execution_count": null,
      "outputs": []
    },
    {
      "cell_type": "code",
      "metadata": {
        "id": "pd8bXs_AfWjh"
      },
      "source": [
        "# connect to your google drive\n",
        "from google.colab import drive\n",
        "drive.mount('/content/drive')"
      ],
      "execution_count": null,
      "outputs": []
    },
    {
      "cell_type": "code",
      "metadata": {
        "id": "wvxfQGdKurze"
      },
      "source": [
        "AUTOTUNE = tf.data.experimental.AUTOTUNE\n",
        "BATCH_SIZE = 8\n",
        "IMG_SIZE = 512"
      ],
      "execution_count": null,
      "outputs": []
    },
    {
      "cell_type": "code",
      "metadata": {
        "id": "AsnrwBvgfr_K"
      },
      "source": [
        "#Create image tf dataset from directory \n",
        "AUTOTUNE = tf.data.experimental.AUTOTUNE\n",
        "\n",
        "def normalize(x):\n",
        "  x /= 127.5\n",
        "  x -= 1.\n",
        "  return x\n",
        "  \n",
        "def load_and_preprocess_image(path):\n",
        "  image = tf.io.read_file(path)\n",
        "  image = tf.image.decode_jpeg(image, channels=3)\n",
        "  image = tf.image.resize(image, [IMG_SIZE, IMG_SIZE])\n",
        "  image = tf.clip_by_value(image, 0.0, 255.0)\n",
        "  image = tf.cast(image, dtype=tf.uint8)\n",
        "  return image\n",
        "\n",
        "\n",
        "\n",
        "all_image_paths = sorted(glob.glob(\"/content/drive/My Drive/Unilever/image_test/*.jpg\"))\n",
        "\n",
        "#path_ds = tf.data.Dataset.from_tensor_slices(all_image_paths)\n",
        "#image_ds = path_ds.map(load_and_preprocess_image, num_parallel_calls=AUTOTUNE)\n",
        "#DATASET_SIZE = len(image_ds)"
      ],
      "execution_count": null,
      "outputs": []
    },
    {
      "cell_type": "code",
      "metadata": {
        "id": "kDZJQRH7f5_N"
      },
      "source": [
        "# read the excel file\n",
        "MHPgrades = pd.read_excel(\"/content/drive/My Drive/Unilever/MHPgrades.xlsx\")\n",
        "grade = MHPgrades[\"Mottled hyperpigmentation\"]\n",
        "\n",
        "all_image_labels = list(grade)\n",
        "#label_names = list(sorted(grade.unique()))\n",
        "#label_ds = tf.data.Dataset.from_tensor_slices(tf.cast(all_image_labels, tf.float32))"
      ],
      "execution_count": null,
      "outputs": []
    },
    {
      "cell_type": "code",
      "metadata": {
        "id": "rKLVBym0_AUs"
      },
      "source": [
        "all_label = []\n",
        "for grade in all_image_labels:\n",
        "  if grade < 2.0:\n",
        "    label = 1.5\n",
        "  elif grade > 4.0:\n",
        "    label = 4.5\n",
        "  else:\n",
        "    label = grade\n",
        "  all_label.append(label)"
      ],
      "execution_count": null,
      "outputs": []
    },
    {
      "cell_type": "code",
      "metadata": {
        "id": "y8kEPytyc_lq",
        "colab": {
          "base_uri": "https://localhost:8080/"
        },
        "outputId": "1480732b-5513-4d2f-8a34-519be30de6cf"
      },
      "source": [
        "label_to_index = dict((name, index) for index, name in enumerate(sorted(set(all_label))))\n",
        "label_to_index"
      ],
      "execution_count": null,
      "outputs": [
        {
          "output_type": "execute_result",
          "data": {
            "text/plain": [
              "{1.5: 0, 2.0: 1, 2.5: 2, 3.0: 3, 3.5: 4, 4.0: 5, 4.5: 6}"
            ]
          },
          "metadata": {
            "tags": []
          },
          "execution_count": 7
        }
      ]
    },
    {
      "cell_type": "code",
      "metadata": {
        "id": "uKXg7vvAl61a"
      },
      "source": [
        "all_labels = [label_to_index[grade]\n",
        "                    for grade in all_label]"
      ],
      "execution_count": null,
      "outputs": []
    },
    {
      "cell_type": "code",
      "metadata": {
        "id": "gnMzZTBPmZOw"
      },
      "source": [
        "from sklearn.model_selection import train_test_split\n",
        "train_paths, test_paths, train_labels, test_labels = train_test_split(all_image_paths, all_labels) "
      ],
      "execution_count": null,
      "outputs": []
    },
    {
      "cell_type": "code",
      "metadata": {
        "id": "kRXIRZZHniR3"
      },
      "source": [
        "path_ds = tf.data.Dataset.from_tensor_slices(train_paths)\n",
        "image_ds = path_ds.map(load_and_preprocess_image, num_parallel_calls=AUTOTUNE)\n",
        "DATASET_SIZE = len(image_ds)\n",
        "label_ds = tf.data.Dataset.from_tensor_slices(tf.cast(train_labels, tf.float32))"
      ],
      "execution_count": null,
      "outputs": []
    },
    {
      "cell_type": "code",
      "metadata": {
        "id": "NFLoRIV5n3or"
      },
      "source": [
        "# a dataset that returns images and labels\n",
        "image_label_ds = tf.data.Dataset.zip((image_ds, label_ds))\n"
      ],
      "execution_count": null,
      "outputs": []
    },
    {
      "cell_type": "code",
      "metadata": {
        "id": "ut0SqBYbcHll",
        "colab": {
          "base_uri": "https://localhost:8080/"
        },
        "outputId": "71b00052-c578-44dc-fa82-4355b5c0cb1f"
      },
      "source": [
        "for img, label in image_label_ds.take(2):\n",
        "  print(img.shape, label.numpy())"
      ],
      "execution_count": null,
      "outputs": [
        {
          "output_type": "stream",
          "text": [
            "(224, 224, 3) 6.0\n",
            "(224, 224, 3) 0.0\n"
          ],
          "name": "stdout"
        }
      ]
    },
    {
      "cell_type": "markdown",
      "metadata": {
        "id": "mS5fLR0Ql9Iv"
      },
      "source": [
        "using generator"
      ]
    },
    {
      "cell_type": "code",
      "metadata": {
        "id": "cwB6sAH8JSkJ"
      },
      "source": [
        "\t# here's our final training dataset\n",
        "\ttrain_ds = image_label_ds.cache()\n",
        "\ttrain_ds = train_ds.shuffle(buffer_size = 1024)\n",
        "\ttrain_ds = train_ds.repeat()\n",
        "\ttrain_ds = train_ds.map(lambda image, label: (tf.image.random_flip_left_right(image),label),num_parallel_calls=AUTOTUNE)\n",
        "\n",
        "\t#train_ds = train_ds.map(lambda image,label:(randaugment.distort_image_with_randaugment(image,num_layers = 2,magnitude = 2),label),num_parallel_calls=AUTOTUNE)\n",
        "\ttrain_ds = train_ds.map(lambda image,label:(normalize(tf.cast(image,tf.float32)),label),num_parallel_calls=AUTOTUNE)\n",
        "\n",
        "\ttrain_ds = train_ds.batch(BATCH_SIZE).prefetch(buffer_size=AUTOTUNE)\n",
        "\n",
        "\n",
        "\tpath_ds = tf.data.Dataset.from_tensor_slices(test_paths)\n",
        "\timage_ds = path_ds.map(load_and_preprocess_image, num_parallel_calls=AUTOTUNE)\n",
        "\n",
        "\tlabel_ds = tf.data.Dataset.from_tensor_slices(tf.cast(test_labels, tf.float32))\n",
        "\ttest_ds = tf.data.Dataset.zip((image_ds, label_ds))\n",
        "\ttest_ds= test_ds.map(lambda image,label:(normalize(tf.cast(image,tf.float32)),label),num_parallel_calls=AUTOTUNE)\n",
        "\t\n",
        "\ttest_ds = test_ds.cache().batch(BATCH_SIZE)\n",
        "\n"
      ],
      "execution_count": null,
      "outputs": []
    },
    {
      "cell_type": "markdown",
      "metadata": {
        "id": "eFzzVYcJBp-I"
      },
      "source": [
        "#### Transfer Learning"
      ]
    },
    {
      "cell_type": "code",
      "metadata": {
        "id": "_WXGztLjKR_Q"
      },
      "source": [
        "from tensorflow.keras.applications import ResNet50\n"
      ],
      "execution_count": null,
      "outputs": []
    },
    {
      "cell_type": "code",
      "metadata": {
        "id": "MATZ3LgrKJcT"
      },
      "source": [
        "conv_base = ResNet50(include_top = False, weights = 'imagenet',\n",
        "                      input_shape = (512, 512, 3))\n",
        "\n",
        "\n",
        "\n",
        "\n",
        "drop_out = tf.keras.layers.Dropout(.5, input_shape =(8, 16, 16,2048))\n",
        "global_average_layer = tf.keras.layers.GlobalAveragePooling2D()\n",
        "prediction_layer = tf.keras.layers.Dense(7, activation='softmax')\n",
        "\n",
        "\n",
        "model = tf.keras.Sequential([\n",
        "  conv_base,\n",
        "  drop_out,\n",
        "  global_average_layer,\n",
        "  prediction_layer\n",
        "])\n",
        "\n",
        "\n",
        "#model = Model(inputs = conv_base.input, outputs=predictions)\n",
        "\n",
        "lr_schedule  = tfa.optimizers.ExponentialCyclicalLearningRate(\n",
        "                              initial_learning_rate=1e-8,\n",
        "                              maximal_learning_rate=1e-4,\n",
        "                              step_size=240,\n",
        "                              )\n",
        "opt = Adam(learning_rate=3e-4)\n",
        "\n",
        "model.compile(optimizer= opt,\n",
        "              loss='sparse_categorical_crossentropy',\n",
        "              metrics=['accuracy'])\n",
        "\n",
        "history = model.fit(train_ds,\n",
        "      epochs = 200,\n",
        "      steps_per_epoch = 40,\n",
        "      validation_data = test_ds)"
      ],
      "execution_count": null,
      "outputs": []
    },
    {
      "cell_type": "code",
      "metadata": {
        "id": "Q0dADPI4-uO0"
      },
      "source": [
        "def plot(history):\n",
        "  \n",
        "    plt.title('Training and validation accuracy')\n",
        "    plt.plot(history.history['accuracy'], label='accuracy')\n",
        "    plt.plot(history.history['val_accuracy'], label = 'val_accuracy')\n",
        "    plt.xlabel('Epoch')\n",
        "    plt.ylabel('Accuracy')\n",
        "    plt.legend(loc='lower right')\n",
        "    plt.show()\n",
        "\n",
        "\n",
        "    plt.figure()\n",
        "    plt.title('Training and validation loss')\n",
        "    plt.plot(history.history['loss'][7:], label='loss')\n",
        "    plt.plot(history.history['val_loss'][7:], label = 'val_loss')\n",
        "    plt.xlabel('Epoch')\n",
        "    plt.ylabel('Loss')\n",
        "    plt.legend(loc='lower right')\n",
        "    plt.show()"
      ],
      "execution_count": null,
      "outputs": []
    },
    {
      "cell_type": "code",
      "metadata": {
        "id": "h_AOkFzwPq16",
        "colab": {
          "base_uri": "https://localhost:8080/",
          "height": 573
        },
        "outputId": "aa86a8b1-6a5f-4c97-b669-e425ddc508db"
      },
      "source": [
        "plot(\n",
        "history\n",
        ")"
      ],
      "execution_count": null,
      "outputs": [
        {
          "output_type": "display_data",
          "data": {
            "image/png": "[encoded data removed]",
            "text/plain": [
              "<Figure size 432x288 with 1 Axes>"
            ]
          },
          "metadata": {
            "tags": [],
            "needs_background": "light"
          }
        },
        {
          "output_type": "display_data",
          "data": {
            "image/png": "[encoded data removed]",
            "text/plain": [
              "<Figure size 432x288 with 1 Axes>"
            ]
          },
          "metadata": {
            "tags": [],
            "needs_background": "light"
          }
        }
      ]
    }
  ]
}